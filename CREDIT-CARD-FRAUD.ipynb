{
 "cells": [
  {
   "cell_type": "markdown",
   "metadata": {
    "id": "EQayCZnl4VV7"
   },
   "source": [
    "## **EXERCISE 4 - ECEN 289**\n",
    "\n",
    "## **TYLER SMITH**\n",
    "## **826005315**"
   ]
  },
  {
   "cell_type": "markdown",
   "metadata": {
    "id": "AbsfKtyo4sT5"
   },
   "source": [
    "## **PART 1 - LOAD & CLEAN DATA**"
   ]
  },
  {
   "cell_type": "code",
   "execution_count": null,
   "metadata": {
    "id": "hYpHw-F5rV1V"
   },
   "outputs": [],
   "source": [
    "import matplotlib.pyplot as plt\n",
    "import pandas as pd\n",
    "import numpy as np\n",
    "from sklearn import datasets, neighbors\n",
    "from mlxtend.plotting import plot_decision_regions"
   ]
  },
  {
   "cell_type": "code",
   "execution_count": null,
   "metadata": {
    "colab": {
     "base_uri": "https://localhost:8080/"
    },
    "id": "7Xc5GBmi7SbZ",
    "outputId": "081e6fc3-1f98-4437-98f9-249558966287"
   },
   "outputs": [
    {
     "name": "stdout",
     "output_type": "stream",
     "text": [
      "Drive already mounted at /content/drive; to attempt to forcibly remount, call drive.mount(\"/content/drive\", force_remount=True).\n"
     ]
    }
   ],
   "source": [
    "# Load the Drive helper and mount\n",
    "from google.colab import drive\n",
    "\n",
    "# This will prompt for authorization.\n",
    "drive.mount('/content/drive')"
   ]
  },
  {
   "cell_type": "markdown",
   "metadata": {
    "id": "okn36kMIRUpw"
   },
   "source": [
    "Read the CSV file into dataframe"
   ]
  },
  {
   "cell_type": "code",
   "execution_count": null,
   "metadata": {
    "colab": {
     "base_uri": "https://localhost:8080/"
    },
    "id": "Xwejgj2u7XDZ",
    "outputId": "7d16a3ec-331a-4580-e546-d32ffb078891"
   },
   "outputs": [
    {
     "name": "stdout",
     "output_type": "stream",
     "text": [
      "drive/MyDrive/ECEN289/EXERCISE4/ex4.csv\n",
      "<class 'pandas.core.frame.DataFrame'>\n",
      "RangeIndex: 186 entries, 0 to 185\n",
      "Data columns (total 34 columns):\n",
      " #   Column    Non-Null Count  Dtype  \n",
      "---  ------    --------------  -----  \n",
      " 0   loc x     186 non-null    int64  \n",
      " 1   lox y     186 non-null    int64  \n",
      " 2   split     186 non-null    int64  \n",
      " 3   wid       186 non-null    int64  \n",
      " 4   vddiddq   186 non-null    float64\n",
      " 5   power     186 non-null    float64\n",
      " 6   freq      186 non-null    float64\n",
      " 7   psro      186 non-null    float64\n",
      " 8   pw40      168 non-null    float64\n",
      " 9   ps40      168 non-null    float64\n",
      " 10  ivd0      186 non-null    float64\n",
      " 11  ivd1      186 non-null    float64\n",
      " 12  ivd2      186 non-null    float64\n",
      " 13  ivd3      186 non-null    float64\n",
      " 14  ivio      186 non-null    float64\n",
      " 15  ivsb      186 non-null    float64\n",
      " 16  ivsr      186 non-null    float64\n",
      " 17  frq00     186 non-null    float64\n",
      " 18  frq0      186 non-null    float64\n",
      " 19  frq6      186 non-null    float64\n",
      " 20  frq9      186 non-null    float64\n",
      " 21  frq12     186 non-null    float64\n",
      " 22  frq15     186 non-null    float64\n",
      " 23  frq18     186 non-null    float64\n",
      " 24  frq21     186 non-null    float64\n",
      " 25  frq24     186 non-null    float64\n",
      " 26  frq27     186 non-null    float64\n",
      " 27  frq30     186 non-null    float64\n",
      " 28  frq33     186 non-null    float64\n",
      " 29  frq36     186 non-null    float64\n",
      " 30  frw39     186 non-null    float64\n",
      " 31  frq57     186 non-null    float64\n",
      " 32  frq58     186 non-null    float64\n",
      " 33  tstclass  186 non-null    int64  \n",
      "dtypes: float64(29), int64(5)\n",
      "memory usage: 49.5 KB\n"
     ]
    }
   ],
   "source": [
    "!ls drive/MyDrive/ECEN289/EXERCISE4/ex4.csv\n",
    "df = pd.read_csv('drive/MyDrive/ECEN289/EXERCISE4/ex4.csv')\n",
    "df.info()"
   ]
  },
  {
   "cell_type": "code",
   "execution_count": null,
   "metadata": {
    "colab": {
     "base_uri": "https://localhost:8080/"
    },
    "id": "WvxQKe_Fo0oX",
    "outputId": "b9ec329c-7547-410a-a051-374f16e37a47"
   },
   "outputs": [
    {
     "name": "stdout",
     "output_type": "stream",
     "text": [
      "<class 'pandas.core.frame.DataFrame'>\n",
      "Int64Index: 168 entries, 0 to 185\n",
      "Data columns (total 34 columns):\n",
      " #   Column    Non-Null Count  Dtype  \n",
      "---  ------    --------------  -----  \n",
      " 0   loc x     168 non-null    int64  \n",
      " 1   lox y     168 non-null    int64  \n",
      " 2   split     168 non-null    int64  \n",
      " 3   wid       168 non-null    int64  \n",
      " 4   vddiddq   168 non-null    float64\n",
      " 5   power     168 non-null    float64\n",
      " 6   freq      168 non-null    float64\n",
      " 7   psro      168 non-null    float64\n",
      " 8   pw40      168 non-null    float64\n",
      " 9   ps40      168 non-null    float64\n",
      " 10  ivd0      168 non-null    float64\n",
      " 11  ivd1      168 non-null    float64\n",
      " 12  ivd2      168 non-null    float64\n",
      " 13  ivd3      168 non-null    float64\n",
      " 14  ivio      168 non-null    float64\n",
      " 15  ivsb      168 non-null    float64\n",
      " 16  ivsr      168 non-null    float64\n",
      " 17  frq00     168 non-null    float64\n",
      " 18  frq0      168 non-null    float64\n",
      " 19  frq6      168 non-null    float64\n",
      " 20  frq9      168 non-null    float64\n",
      " 21  frq12     168 non-null    float64\n",
      " 22  frq15     168 non-null    float64\n",
      " 23  frq18     168 non-null    float64\n",
      " 24  frq21     168 non-null    float64\n",
      " 25  frq24     168 non-null    float64\n",
      " 26  frq27     168 non-null    float64\n",
      " 27  frq30     168 non-null    float64\n",
      " 28  frq33     168 non-null    float64\n",
      " 29  frq36     168 non-null    float64\n",
      " 30  frw39     168 non-null    float64\n",
      " 31  frq57     168 non-null    float64\n",
      " 32  frq58     168 non-null    float64\n",
      " 33  tstclass  168 non-null    int64  \n",
      "dtypes: float64(29), int64(5)\n",
      "memory usage: 45.9 KB\n"
     ]
    }
   ],
   "source": [
    "df = df.dropna(axis=0,how='any')\n",
    "df.reset_index()\n",
    "df.info()"
   ]
  },
  {
   "cell_type": "markdown",
   "metadata": {
    "id": "SYn0QmAmvIyw"
   },
   "source": [
    "Train, Test, Validation Split"
   ]
  },
  {
   "cell_type": "code",
   "execution_count": null,
   "metadata": {
    "id": "jEoKna1KqTgb"
   },
   "outputs": [],
   "source": [
    "#importing for train test split\n",
    "from sklearn.model_selection import train_test_split"
   ]
  },
  {
   "cell_type": "code",
   "execution_count": null,
   "metadata": {
    "id": "_SO-WShJscJI"
   },
   "outputs": [],
   "source": [
    "y = df.tstclass.values\n",
    "X = df.drop(['tstclass'],axis=1)"
   ]
  },
  {
   "cell_type": "code",
   "execution_count": null,
   "metadata": {
    "id": "OTq0QW3ztLVV"
   },
   "outputs": [],
   "source": [
    "x_train, x_test, y_train, y_test = train_test_split(X,y,test_size = 0.2,random_state=42)\n",
    "x_train, x_validate, y_train, y_validate = train_test_split(x_train,y_train,test_size=0.25, random_state=42)"
   ]
  },
  {
   "cell_type": "code",
   "execution_count": null,
   "metadata": {
    "colab": {
     "base_uri": "https://localhost:8080/"
    },
    "id": "46VebJoru3iq",
    "outputId": "0d8389d3-c20a-470f-9903-3dd77f810460"
   },
   "outputs": [
    {
     "name": "stdout",
     "output_type": "stream",
     "text": [
      "x_train:  (100, 33)\n",
      "y_train:  (100,)\n",
      "x_test:  (34, 33)\n",
      "y_test:  (34,)\n",
      "x_validate:  (34, 33)\n",
      "y_validate:  (34,)\n"
     ]
    }
   ],
   "source": [
    "print(\"x_train: \",x_train.shape)\n",
    "print(\"y_train: \",y_train.shape)\n",
    "print(\"x_test: \",x_test.shape)\n",
    "print(\"y_test: \",y_test.shape)\n",
    "print(\"x_validate: \",x_validate.shape)\n",
    "print(\"y_validate: \",y_validate.shape)"
   ]
  },
  {
   "cell_type": "markdown",
   "metadata": {
    "id": "AMxiagEzvAHm"
   },
   "source": [
    "## **Part 2 - Naive Bayes Classifier**"
   ]
  },
  {
   "cell_type": "code",
   "execution_count": null,
   "metadata": {
    "id": "BX80tQ2twTUE"
   },
   "outputs": [],
   "source": [
    "from sklearn.metrics import accuracy_score\n",
    "from sklearn.metrics import classification_report\n",
    "from sklearn.metrics import confusion_matrix\n",
    "from sklearn.metrics import f1_score\n",
    "from sklearn.metrics import precision_score"
   ]
  },
  {
   "cell_type": "code",
   "execution_count": null,
   "metadata": {
    "id": "qvY6gwGwvQ_O"
   },
   "outputs": [],
   "source": [
    "from sklearn.naive_bayes import GaussianNB\n",
    "clf = GaussianNB()\n",
    "clf.fit(x_train, y_train)\n",
    "y_pred = clf.predict(x_validate)\n",
    "\n"
   ]
  },
  {
   "cell_type": "code",
   "execution_count": null,
   "metadata": {
    "colab": {
     "base_uri": "https://localhost:8080/"
    },
    "id": "FAGS_Gliyp9o",
    "outputId": "ce9acd65-572f-4728-e5fe-f617b6c60b89"
   },
   "outputs": [
    {
     "name": "stdout",
     "output_type": "stream",
     "text": [
      "NAIVE BAYES CLASSIFIER: \n",
      "Confusion Matrix: \n",
      "[[16  0  0]\n",
      " [ 0 15  0]\n",
      " [ 1  0  2]]\n",
      "Accuracy:  0.9705882352941176\n",
      "f1 Score:  0.9232323232323232\n",
      "Precision:  0.9803921568627452\n"
     ]
    }
   ],
   "source": [
    "cm=confusion_matrix(y_validate, y_pred)\n",
    "print('NAIVE BAYES CLASSIFIER: ')\n",
    "print(\"Confusion Matrix: \")\n",
    "print(cm)\n",
    "print(\"Accuracy: \",accuracy_score(y_validate,y_pred))\n",
    "print(\"f1 Score: \",f1_score(y_validate, y_pred, average='macro'))\n",
    "print(\"Precision: \",precision_score(y_validate, y_pred, average='macro'))"
   ]
  },
  {
   "cell_type": "markdown",
   "metadata": {
    "id": "UWkOq3BW4Mee"
   },
   "source": [
    "## **PART 3 - KNN**"
   ]
  },
  {
   "cell_type": "markdown",
   "metadata": {
    "id": "F2tXBFtTzWv6"
   },
   "source": [
    "K = 1 NEAREST NEIGHBOR"
   ]
  },
  {
   "cell_type": "code",
   "execution_count": null,
   "metadata": {
    "colab": {
     "base_uri": "https://localhost:8080/"
    },
    "id": "Ck5wCpUczcqx",
    "outputId": "2c439b41-81d6-478c-b0bb-2f37f19e3350"
   },
   "outputs": [
    {
     "name": "stdout",
     "output_type": "stream",
     "text": [
      "[2 2 2 2 2 1 1 1 1 1 2 1 1 2 2 3 1 2 3 2 1 1 1 2 1 1 1 2 1 2 1 1 2 1]\n"
     ]
    }
   ],
   "source": [
    "KNN1 = neighbors.KNeighborsClassifier(n_neighbors=1)\n",
    "KNN1.fit(x_train,y_train)\n",
    "y_pred = KNN1.predict(x_validate) \n",
    "\n",
    "print(y_pred)"
   ]
  },
  {
   "cell_type": "code",
   "execution_count": null,
   "metadata": {
    "colab": {
     "base_uri": "https://localhost:8080/"
    },
    "id": "IZHr3GQF09Ie",
    "outputId": "058b38bd-89b9-4b3c-e293-590887b3256c"
   },
   "outputs": [
    {
     "name": "stdout",
     "output_type": "stream",
     "text": [
      "KNN - 1: \n",
      "Confusion Matrix: \n",
      "[[16  0  0]\n",
      " [ 1 14  0]\n",
      " [ 1  0  2]]\n",
      "Accuracy:  0.9411764705882353\n",
      "f1 Score:  0.9022312373225153\n",
      "Precision:  0.9629629629629629\n"
     ]
    }
   ],
   "source": [
    "cm=confusion_matrix(y_validate, y_pred)\n",
    "print('KNN - 1: ')\n",
    "print(\"Confusion Matrix: \")\n",
    "print(cm)\n",
    "print(\"Accuracy: \",accuracy_score(y_validate,y_pred))\n",
    "print(\"f1 Score: \",f1_score(y_validate, y_pred, average='macro'))\n",
    "print(\"Precision: \",precision_score(y_validate, y_pred, average='macro'))"
   ]
  },
  {
   "cell_type": "markdown",
   "metadata": {
    "id": "bTfm7Jvf1T1v"
   },
   "source": [
    "K = 3 NEAREST NEIGHBOR"
   ]
  },
  {
   "cell_type": "code",
   "execution_count": null,
   "metadata": {
    "colab": {
     "base_uri": "https://localhost:8080/"
    },
    "id": "yMkvCqHD1ZvO",
    "outputId": "e2abf853-216d-42ed-981a-b6f7eb36875b"
   },
   "outputs": [
    {
     "name": "stdout",
     "output_type": "stream",
     "text": [
      "[2 2 2 2 2 1 1 1 1 1 2 1 1 2 2 3 1 2 1 2 2 1 1 2 1 1 1 2 1 2 1 1 2 1]\n"
     ]
    }
   ],
   "source": [
    "KNN3 = neighbors.KNeighborsClassifier(n_neighbors=3)\n",
    "KNN3.fit(x_train,y_train)\n",
    "y_pred = KNN3.predict(x_validate)\n",
    "\n",
    "print(y_pred)"
   ]
  },
  {
   "cell_type": "code",
   "execution_count": null,
   "metadata": {
    "colab": {
     "base_uri": "https://localhost:8080/"
    },
    "id": "-tigqOLf1eyU",
    "outputId": "f573047b-e8f0-4226-c1f1-b4775a3b771e"
   },
   "outputs": [
    {
     "name": "stdout",
     "output_type": "stream",
     "text": [
      "KNN - 3: \n",
      "Confusion Matrix: \n",
      "[[16  0  0]\n",
      " [ 0 15  0]\n",
      " [ 2  0  1]]\n",
      "Accuracy:  0.9411764705882353\n",
      "f1 Score:  0.8137254901960785\n",
      "Precision:  0.9629629629629629\n"
     ]
    }
   ],
   "source": [
    "cm=confusion_matrix(y_validate, y_pred)\n",
    "print('KNN - 3: ')\n",
    "print(\"Confusion Matrix: \")\n",
    "print(cm)\n",
    "print(\"Accuracy: \",accuracy_score(y_validate,y_pred))\n",
    "print(\"f1 Score: \",f1_score(y_validate, y_pred, average='macro'))\n",
    "print(\"Precision: \",precision_score(y_validate, y_pred, average='macro'))"
   ]
  },
  {
   "cell_type": "markdown",
   "metadata": {
    "id": "qs1DvGH12lmT"
   },
   "source": [
    "K = 5 NEAREST NEIGHBOR"
   ]
  },
  {
   "cell_type": "code",
   "execution_count": null,
   "metadata": {
    "colab": {
     "base_uri": "https://localhost:8080/"
    },
    "id": "owoFtm2l2qXN",
    "outputId": "828b01ea-f599-47f9-d424-ecf7e5e2f04c"
   },
   "outputs": [
    {
     "name": "stdout",
     "output_type": "stream",
     "text": [
      "[2 2 2 2 2 1 2 1 1 1 2 1 1 2 2 3 1 2 1 2 2 1 1 2 1 1 1 2 1 2 1 1 2 1]\n"
     ]
    }
   ],
   "source": [
    "KNN5 = neighbors.KNeighborsClassifier(n_neighbors=5)\n",
    "KNN5.fit(x_train,y_train)\n",
    "y_pred = KNN5.predict(x_validate)\n",
    "\n",
    "print(y_pred)"
   ]
  },
  {
   "cell_type": "code",
   "execution_count": null,
   "metadata": {
    "colab": {
     "base_uri": "https://localhost:8080/"
    },
    "id": "9VJPI_7W2w9C",
    "outputId": "d3bce82d-b5ae-433e-b9a2-7eb355675568"
   },
   "outputs": [
    {
     "name": "stdout",
     "output_type": "stream",
     "text": [
      "KNN - 5: \n",
      "Confusion Matrix: \n",
      "[[15  1  0]\n",
      " [ 0 15  0]\n",
      " [ 2  0  1]]\n",
      "Accuracy:  0.9117647058823529\n",
      "f1 Score:  0.7922776148582601\n",
      "Precision:  0.9399509803921569\n"
     ]
    }
   ],
   "source": [
    "cm=confusion_matrix(y_validate, y_pred)\n",
    "print('KNN - 5: ')\n",
    "print(\"Confusion Matrix: \")\n",
    "print(cm)\n",
    "print(\"Accuracy: \",accuracy_score(y_validate,y_pred))\n",
    "print(\"f1 Score: \",f1_score(y_validate, y_pred, average='macro'))\n",
    "print(\"Precision: \",precision_score(y_validate, y_pred, average='macro'))"
   ]
  },
  {
   "cell_type": "markdown",
   "metadata": {
    "id": "hcAZ0Qpz3E3-"
   },
   "source": [
    "THE BEST METHOD FOR BASED ON THE 4 ABOVE, WAS THE NAIVE BAYES CLASSIFIER\n",
    "\n",
    "NOW USING IT TO PREDICT THE METRICS FOR THE TEST SET"
   ]
  },
  {
   "cell_type": "code",
   "execution_count": null,
   "metadata": {
    "colab": {
     "base_uri": "https://localhost:8080/"
    },
    "id": "Pt2hw5693RG2",
    "outputId": "0d74f6e6-d981-4652-ac99-6cfa99281d84"
   },
   "outputs": [
    {
     "name": "stdout",
     "output_type": "stream",
     "text": [
      "NBC WITH TEST SET: \n",
      "Confusion Matrix: \n",
      "[[10  6  0]\n",
      " [ 7  6  2]\n",
      " [ 1  1  1]]\n",
      "Accuracy:  0.9411764705882353\n",
      "f1 Score:  0.8157894736842106\n",
      "Precision:  0.9666666666666667\n"
     ]
    }
   ],
   "source": [
    "y_pred = clf.predict(x_test)\n",
    "\n",
    "cm=confusion_matrix(y_validate, y_test)\n",
    "print('NBC WITH TEST SET: ')\n",
    "print(\"Confusion Matrix: \")\n",
    "print(cm)\n",
    "print(\"Accuracy: \",accuracy_score(y_test,y_pred))\n",
    "print(\"f1 Score: \",f1_score(y_test, y_pred, average='macro'))\n",
    "print(\"Precision: \",precision_score(y_test, y_pred, average='macro'))"
   ]
  },
  {
   "cell_type": "markdown",
   "metadata": {
    "id": "srbEH6wi5b-H"
   },
   "source": [
    "## **PART 4 - FEATURE IMPORTANCE**"
   ]
  },
  {
   "cell_type": "code",
   "execution_count": null,
   "metadata": {
    "id": "qF91QTTd5ish"
   },
   "outputs": [],
   "source": [
    "from sklearn.ensemble import RandomForestClassifier"
   ]
  },
  {
   "cell_type": "code",
   "execution_count": null,
   "metadata": {
    "colab": {
     "base_uri": "https://localhost:8080/"
    },
    "id": "fRwggA6r5mtQ",
    "outputId": "905e6adb-ad74-49cd-acff-444d27880366"
   },
   "outputs": [
    {
     "name": "stdout",
     "output_type": "stream",
     "text": [
      "[2 2 2 2 2 1 1 1 1 1 2 1 1 2 2 3 1 2 3 2 2 1 1 2 1 1 1 2 1 2 1 1 2 1]\n"
     ]
    }
   ],
   "source": [
    "rfc = RandomForestClassifier()\n",
    "rfc.fit(x_train, y_train)\n",
    "y_pred = rfc.predict(x_validate)\n",
    "\n",
    "print(y_pred)"
   ]
  },
  {
   "cell_type": "code",
   "execution_count": null,
   "metadata": {
    "colab": {
     "base_uri": "https://localhost:8080/"
    },
    "id": "pcrGWd075uGH",
    "outputId": "76c0d85b-7f1f-4358-8df7-7ae013607271"
   },
   "outputs": [
    {
     "name": "stdout",
     "output_type": "stream",
     "text": [
      "RANDOM FOREST CLASSIFIER:\n",
      "Confusion Matrix: \n",
      "[[16  0  0]\n",
      " [ 0 15  0]\n",
      " [ 1  0  2]]\n",
      "Accuracy:  0.9705882352941176\n",
      "f1 Score:  0.9232323232323232\n",
      "Precision:  0.9803921568627452\n"
     ]
    }
   ],
   "source": [
    "cm=confusion_matrix(y_validate, y_pred)\n",
    "print('RANDOM FOREST CLASSIFIER:')\n",
    "print(\"Confusion Matrix: \")\n",
    "print(cm)\n",
    "print(\"Accuracy: \",accuracy_score(y_validate,y_pred))\n",
    "print(\"f1 Score: \",f1_score(y_validate, y_pred, average='macro'))\n",
    "print(\"Precision: \",precision_score(y_validate, y_pred, average='macro'))"
   ]
  },
  {
   "cell_type": "code",
   "execution_count": null,
   "metadata": {
    "colab": {
     "base_uri": "https://localhost:8080/"
    },
    "id": "bThTPB-a55Vt",
    "outputId": "4896782c-1f44-43fa-c8bb-2f3329c5b350"
   },
   "outputs": [
    {
     "data": {
      "text/plain": [
       "1"
      ]
     },
     "execution_count": 102,
     "metadata": {},
     "output_type": "execute_result"
    }
   ],
   "source": [
    "misclassified = np.sum(cm) - np.sum(np.diag(cm))\n",
    "misclassified "
   ]
  },
  {
   "cell_type": "code",
   "execution_count": null,
   "metadata": {
    "id": "reZxn5bc6Gd7"
   },
   "outputs": [],
   "source": [
    "importances = rfc.feature_importances_\n",
    "# Sort the feature importance in descending order\n",
    "sorted_indices = np.argsort(importances)[::-1]"
   ]
  },
  {
   "cell_type": "code",
   "execution_count": null,
   "metadata": {
    "colab": {
     "base_uri": "https://localhost:8080/",
     "height": 297
    },
    "id": "i7pXZAb06JGp",
    "outputId": "dfd200c3-377c-4638-e1f4-0be23770e986"
   },
   "outputs": [
    {
     "data": {
      "image/png": "[encoded data removed]",
      "text/plain": [
       "<Figure size 432x288 with 1 Axes>"
      ]
     },
     "metadata": {
      "needs_background": "light"
     },
     "output_type": "display_data"
    }
   ],
   "source": [
    "plt.title('Feature Importance')\n",
    "plt.bar(range(x_train.shape[1]), importances[sorted_indices], align='center')\n",
    "plt.xticks(range(x_train.shape[1]), X.columns[sorted_indices], rotation=90)\n",
    "plt.tight_layout()\n",
    "plt.show()"
   ]
  },
  {
   "cell_type": "code",
   "execution_count": null,
   "metadata": {
    "colab": {
     "base_uri": "https://localhost:8080/"
    },
    "id": "ZOswCcuUAQeX",
    "outputId": "9f9200f5-50ff-4573-ad04-8a7711d68773"
   },
   "outputs": [
    {
     "name": "stdout",
     "output_type": "stream",
     "text": [
      "Index(['frq57', 'ivd2', 'split', 'ivd0', 'ivio', 'frq30', 'vddiddq', 'ivd3',\n",
      "       'frq21', 'frq33', 'frw39', 'frq12', 'frq36', 'ivd1', 'ivsb', 'ivsr',\n",
      "       'freq', 'frq24', 'psro', 'frq00', 'ps40', 'power', 'wid', 'frq58',\n",
      "       'frq0', 'frq18', 'frq9', 'frq27', 'frq6', 'pw40', 'lox y', 'frq15',\n",
      "       'loc x'],\n",
      "      dtype='object')\n"
     ]
    }
   ],
   "source": [
    "print(X.columns[sorted_indices])"
   ]
  },
  {
   "cell_type": "code",
   "execution_count": null,
   "metadata": {
    "id": "fUDBKf6zAedw"
   },
   "outputs": [],
   "source": [
    "#The 2 most important features\n",
    "X = df[['ivd2','frq57']]\n"
   ]
  },
  {
   "cell_type": "code",
   "execution_count": null,
   "metadata": {
    "id": "o_cfUApFAV5S"
   },
   "outputs": [],
   "source": [
    "#Redoing the train test split for the 2 most important features\n",
    "x_train, x_test, y_train, y_test = train_test_split(X,y,test_size = 0.2,random_state=42)\n",
    "x_train, x_validate, y_train, y_validate = train_test_split(x_train,y_train,test_size=0.25, random_state=42)"
   ]
  },
  {
   "cell_type": "code",
   "execution_count": null,
   "metadata": {
    "id": "sIZO8xL_BR_W"
   },
   "outputs": [],
   "source": [
    "clf = GaussianNB()\n",
    "clf.fit(x_train, y_train)\n",
    "y_pred = clf.predict(x_validate)\n"
   ]
  },
  {
   "cell_type": "code",
   "execution_count": null,
   "metadata": {
    "colab": {
     "base_uri": "https://localhost:8080/"
    },
    "id": "H4I-EFADBVSI",
    "outputId": "534806cc-9854-4736-9e63-557467530f9d"
   },
   "outputs": [
    {
     "name": "stdout",
     "output_type": "stream",
     "text": [
      "Two feature Naive:\n",
      "Confusion Matrix: \n",
      "[[15  1  0]\n",
      " [ 0 15  0]\n",
      " [ 2  0  1]]\n",
      "Accuracy:  0.9117647058823529\n",
      "f1 Score:  0.7922776148582601\n",
      "Precision:  0.9399509803921569\n"
     ]
    }
   ],
   "source": [
    "cm=confusion_matrix(y_validate, y_pred)\n",
    "print('Two feature Naive:')\n",
    "print(\"Confusion Matrix: \")\n",
    "print(cm)\n",
    "print(\"Accuracy: \",accuracy_score(y_validate,y_pred))\n",
    "print(\"f1 Score: \",f1_score(y_validate, y_pred, average='macro'))\n",
    "print(\"Precision: \",precision_score(y_validate, y_pred, average='macro'))"
   ]
  },
  {
   "cell_type": "markdown",
   "metadata": {
    "id": "FIunW-nXCaSx"
   },
   "source": [
    "GIVEN THE RESULLTS OF THE 32 FEATURE CLASSIFIER WERE AS FOLLOWS:\n",
    "\n",
    "Confusion Matrix: \n",
    "\n",
    "[ 16  0  0 ]\n",
    "\n",
    "[ 0 15  0 ]\n",
    "\n",
    "[ 1  0  2 ]\n",
    "\n",
    "Accuracy:  0.9705882352941176\n",
    "\n",
    "f1 Score:  0.9232323232323232\n",
    "\n",
    "Precision:  0.9803921568627452\n",
    "\n",
    "THE TWO FEATURE CLASSIFIER SEEMS TO BE SUFFICIENT ENOUGH FOR CLASSIFYING IN THIS CASE. REDUCING 30 FEATURES AND STILL MAINTAINING VALIDATION ACCURACY AND PRECISIOIN OVER 90% SEEMS BENIFICIAL FOR MAKING THE MODEL MUCH MORE INTERPRETABLE BY ONLY HAVING TWO FEATURES. "
   ]
  },
  {
   "cell_type": "code",
   "execution_count": null,
   "metadata": {
    "id": "UyUq2RuDECPz"
   },
   "outputs": [],
   "source": []
  }
 ],
 "metadata": {
  "colab": {
   "collapsed_sections": [],
   "name": "EXERCISE4.ipynb",
   "provenance": []
  },
  "kernelspec": {
   "display_name": "Python 3",
   "language": "python",
   "name": "python3"
  },
  "language_info": {
   "codemirror_mode": {
    "name": "ipython",
    "version": 3
   },
   "file_extension": ".py",
   "mimetype": "text/x-python",
   "name": "python",
   "nbconvert_exporter": "python",
   "pygments_lexer": "ipython3",
   "version": "3.8.8"
  }
 },
 "nbformat": 4,
 "nbformat_minor": 1
}
